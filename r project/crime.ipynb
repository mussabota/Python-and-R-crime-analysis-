{
 "cells": [
  {
   "cell_type": "code",
   "execution_count": 1,
   "metadata": {},
   "outputs": [],
   "source": [
    "import pandas as pd\n",
    "import numpy as np\n",
    "import itertools\n",
    "from itertools import chain, combinations\n",
    "import statsmodels.formula.api as smf\n",
    "import scipy.stats as scipystats\n",
    "import statsmodels.api as sm\n",
    "import statsmodels.stats.stattools as stools\n",
    "import statsmodels.stats as stats \n",
    "from statsmodels.graphics.regressionplots import *\n",
    "import matplotlib.pyplot as plt\n",
    "import seaborn as sns\n",
    "import copy\n",
    "from sklearn.model_selection import train_test_split\n",
    "import math\n",
    "\n"
   ]
  },
  {
   "cell_type": "code",
   "execution_count": 2,
   "metadata": {},
   "outputs": [],
   "source": [
    "crime = pd.read_csv('crime.csv')   "
   ]
  },
  {
   "cell_type": "code",
   "execution_count": 3,
   "metadata": {},
   "outputs": [
    {
     "data": {
      "text/html": [
       "<div>\n",
       "<style scoped>\n",
       "    .dataframe tbody tr th:only-of-type {\n",
       "        vertical-align: middle;\n",
       "    }\n",
       "\n",
       "    .dataframe tbody tr th {\n",
       "        vertical-align: top;\n",
       "    }\n",
       "\n",
       "    .dataframe thead th {\n",
       "        text-align: right;\n",
       "    }\n",
       "</style>\n",
       "<table border=\"1\" class=\"dataframe\">\n",
       "  <thead>\n",
       "    <tr style=\"text-align: right;\">\n",
       "      <th></th>\n",
       "      <th>sid</th>\n",
       "      <th>state</th>\n",
       "      <th>crime</th>\n",
       "      <th>murder</th>\n",
       "      <th>pctmetro</th>\n",
       "      <th>pctwhite</th>\n",
       "      <th>pcths</th>\n",
       "      <th>poverty</th>\n",
       "      <th>single</th>\n",
       "    </tr>\n",
       "  </thead>\n",
       "  <tbody>\n",
       "    <tr>\n",
       "      <th>0</th>\n",
       "      <td>1</td>\n",
       "      <td>ak</td>\n",
       "      <td>761</td>\n",
       "      <td>9.0</td>\n",
       "      <td>41.8</td>\n",
       "      <td>75.2</td>\n",
       "      <td>86.6</td>\n",
       "      <td>9.1</td>\n",
       "      <td>14.3</td>\n",
       "    </tr>\n",
       "    <tr>\n",
       "      <th>1</th>\n",
       "      <td>2</td>\n",
       "      <td>al</td>\n",
       "      <td>780</td>\n",
       "      <td>11.6</td>\n",
       "      <td>67.4</td>\n",
       "      <td>73.5</td>\n",
       "      <td>66.9</td>\n",
       "      <td>17.4</td>\n",
       "      <td>11.5</td>\n",
       "    </tr>\n",
       "    <tr>\n",
       "      <th>2</th>\n",
       "      <td>3</td>\n",
       "      <td>ar</td>\n",
       "      <td>593</td>\n",
       "      <td>10.2</td>\n",
       "      <td>44.7</td>\n",
       "      <td>82.9</td>\n",
       "      <td>66.3</td>\n",
       "      <td>20.0</td>\n",
       "      <td>10.7</td>\n",
       "    </tr>\n",
       "    <tr>\n",
       "      <th>3</th>\n",
       "      <td>4</td>\n",
       "      <td>az</td>\n",
       "      <td>715</td>\n",
       "      <td>8.6</td>\n",
       "      <td>84.7</td>\n",
       "      <td>88.6</td>\n",
       "      <td>78.7</td>\n",
       "      <td>15.4</td>\n",
       "      <td>12.1</td>\n",
       "    </tr>\n",
       "    <tr>\n",
       "      <th>4</th>\n",
       "      <td>5</td>\n",
       "      <td>ca</td>\n",
       "      <td>1078</td>\n",
       "      <td>13.1</td>\n",
       "      <td>96.7</td>\n",
       "      <td>79.3</td>\n",
       "      <td>76.2</td>\n",
       "      <td>18.2</td>\n",
       "      <td>12.5</td>\n",
       "    </tr>\n",
       "  </tbody>\n",
       "</table>\n",
       "</div>"
      ],
      "text/plain": [
       "   sid state  crime  murder  pctmetro  pctwhite  pcths  poverty  single\n",
       "0    1   ak     761     9.0      41.8      75.2   86.6      9.1    14.3\n",
       "1    2   al     780    11.6      67.4      73.5   66.9     17.4    11.5\n",
       "2    3   ar     593    10.2      44.7      82.9   66.3     20.0    10.7\n",
       "3    4   az     715     8.6      84.7      88.6   78.7     15.4    12.1\n",
       "4    5   ca    1078    13.1      96.7      79.3   76.2     18.2    12.5"
      ]
     },
     "execution_count": 3,
     "metadata": {},
     "output_type": "execute_result"
    }
   ],
   "source": [
    "crime.head()"
   ]
  },
  {
   "cell_type": "code",
   "execution_count": 4,
   "metadata": {},
   "outputs": [
    {
     "data": {
      "text/html": [
       "<div>\n",
       "<style scoped>\n",
       "    .dataframe tbody tr th:only-of-type {\n",
       "        vertical-align: middle;\n",
       "    }\n",
       "\n",
       "    .dataframe tbody tr th {\n",
       "        vertical-align: top;\n",
       "    }\n",
       "\n",
       "    .dataframe thead th {\n",
       "        text-align: right;\n",
       "    }\n",
       "</style>\n",
       "<table border=\"1\" class=\"dataframe\">\n",
       "  <thead>\n",
       "    <tr style=\"text-align: right;\">\n",
       "      <th></th>\n",
       "      <th>sid</th>\n",
       "      <th>crime</th>\n",
       "      <th>murder</th>\n",
       "      <th>pctmetro</th>\n",
       "      <th>pctwhite</th>\n",
       "      <th>pcths</th>\n",
       "      <th>poverty</th>\n",
       "      <th>single</th>\n",
       "    </tr>\n",
       "  </thead>\n",
       "  <tbody>\n",
       "    <tr>\n",
       "      <th>sid</th>\n",
       "      <td>1.000000</td>\n",
       "      <td>-0.024159</td>\n",
       "      <td>0.147281</td>\n",
       "      <td>-0.059470</td>\n",
       "      <td>0.090776</td>\n",
       "      <td>-0.023529</td>\n",
       "      <td>0.121086</td>\n",
       "      <td>0.054030</td>\n",
       "    </tr>\n",
       "    <tr>\n",
       "      <th>crime</th>\n",
       "      <td>-0.024159</td>\n",
       "      <td>1.000000</td>\n",
       "      <td>0.886196</td>\n",
       "      <td>0.544039</td>\n",
       "      <td>-0.677176</td>\n",
       "      <td>-0.256052</td>\n",
       "      <td>0.509508</td>\n",
       "      <td>0.838875</td>\n",
       "    </tr>\n",
       "    <tr>\n",
       "      <th>murder</th>\n",
       "      <td>0.147281</td>\n",
       "      <td>0.886196</td>\n",
       "      <td>1.000000</td>\n",
       "      <td>0.316114</td>\n",
       "      <td>-0.706193</td>\n",
       "      <td>-0.286071</td>\n",
       "      <td>0.565871</td>\n",
       "      <td>0.858911</td>\n",
       "    </tr>\n",
       "    <tr>\n",
       "      <th>pctmetro</th>\n",
       "      <td>-0.059470</td>\n",
       "      <td>0.544039</td>\n",
       "      <td>0.316114</td>\n",
       "      <td>1.000000</td>\n",
       "      <td>-0.337221</td>\n",
       "      <td>-0.003977</td>\n",
       "      <td>-0.060538</td>\n",
       "      <td>0.259810</td>\n",
       "    </tr>\n",
       "    <tr>\n",
       "      <th>pctwhite</th>\n",
       "      <td>0.090776</td>\n",
       "      <td>-0.677176</td>\n",
       "      <td>-0.706193</td>\n",
       "      <td>-0.337221</td>\n",
       "      <td>1.000000</td>\n",
       "      <td>0.338548</td>\n",
       "      <td>-0.389294</td>\n",
       "      <td>-0.656437</td>\n",
       "    </tr>\n",
       "    <tr>\n",
       "      <th>pcths</th>\n",
       "      <td>-0.023529</td>\n",
       "      <td>-0.256052</td>\n",
       "      <td>-0.286071</td>\n",
       "      <td>-0.003977</td>\n",
       "      <td>0.338548</td>\n",
       "      <td>1.000000</td>\n",
       "      <td>-0.743938</td>\n",
       "      <td>-0.219783</td>\n",
       "    </tr>\n",
       "    <tr>\n",
       "      <th>poverty</th>\n",
       "      <td>0.121086</td>\n",
       "      <td>0.509508</td>\n",
       "      <td>0.565871</td>\n",
       "      <td>-0.060538</td>\n",
       "      <td>-0.389294</td>\n",
       "      <td>-0.743938</td>\n",
       "      <td>1.000000</td>\n",
       "      <td>0.548589</td>\n",
       "    </tr>\n",
       "    <tr>\n",
       "      <th>single</th>\n",
       "      <td>0.054030</td>\n",
       "      <td>0.838875</td>\n",
       "      <td>0.858911</td>\n",
       "      <td>0.259810</td>\n",
       "      <td>-0.656437</td>\n",
       "      <td>-0.219783</td>\n",
       "      <td>0.548589</td>\n",
       "      <td>1.000000</td>\n",
       "    </tr>\n",
       "  </tbody>\n",
       "</table>\n",
       "</div>"
      ],
      "text/plain": [
       "               sid     crime    murder  pctmetro  pctwhite     pcths  \\\n",
       "sid       1.000000 -0.024159  0.147281 -0.059470  0.090776 -0.023529   \n",
       "crime    -0.024159  1.000000  0.886196  0.544039 -0.677176 -0.256052   \n",
       "murder    0.147281  0.886196  1.000000  0.316114 -0.706193 -0.286071   \n",
       "pctmetro -0.059470  0.544039  0.316114  1.000000 -0.337221 -0.003977   \n",
       "pctwhite  0.090776 -0.677176 -0.706193 -0.337221  1.000000  0.338548   \n",
       "pcths    -0.023529 -0.256052 -0.286071 -0.003977  0.338548  1.000000   \n",
       "poverty   0.121086  0.509508  0.565871 -0.060538 -0.389294 -0.743938   \n",
       "single    0.054030  0.838875  0.858911  0.259810 -0.656437 -0.219783   \n",
       "\n",
       "           poverty    single  \n",
       "sid       0.121086  0.054030  \n",
       "crime     0.509508  0.838875  \n",
       "murder    0.565871  0.858911  \n",
       "pctmetro -0.060538  0.259810  \n",
       "pctwhite -0.389294 -0.656437  \n",
       "pcths    -0.743938 -0.219783  \n",
       "poverty   1.000000  0.548589  \n",
       "single    0.548589  1.000000  "
      ]
     },
     "execution_count": 4,
     "metadata": {},
     "output_type": "execute_result"
    }
   ],
   "source": [
    "crime.corr()"
   ]
  },
  {
   "cell_type": "code",
   "execution_count": 5,
   "metadata": {},
   "outputs": [
    {
     "data": {
      "text/html": [
       "<div>\n",
       "<style scoped>\n",
       "    .dataframe tbody tr th:only-of-type {\n",
       "        vertical-align: middle;\n",
       "    }\n",
       "\n",
       "    .dataframe tbody tr th {\n",
       "        vertical-align: top;\n",
       "    }\n",
       "\n",
       "    .dataframe thead th {\n",
       "        text-align: right;\n",
       "    }\n",
       "</style>\n",
       "<table border=\"1\" class=\"dataframe\">\n",
       "  <thead>\n",
       "    <tr style=\"text-align: right;\">\n",
       "      <th></th>\n",
       "      <th>sid</th>\n",
       "      <th>crime</th>\n",
       "      <th>murder</th>\n",
       "      <th>pctmetro</th>\n",
       "      <th>pctwhite</th>\n",
       "      <th>pcths</th>\n",
       "      <th>poverty</th>\n",
       "      <th>single</th>\n",
       "    </tr>\n",
       "  </thead>\n",
       "  <tbody>\n",
       "    <tr>\n",
       "      <th>count</th>\n",
       "      <td>51.000000</td>\n",
       "      <td>51.000000</td>\n",
       "      <td>51.000000</td>\n",
       "      <td>51.000000</td>\n",
       "      <td>51.000000</td>\n",
       "      <td>51.000000</td>\n",
       "      <td>51.000000</td>\n",
       "      <td>51.000000</td>\n",
       "    </tr>\n",
       "    <tr>\n",
       "      <th>mean</th>\n",
       "      <td>26.000000</td>\n",
       "      <td>612.843137</td>\n",
       "      <td>8.727451</td>\n",
       "      <td>67.390196</td>\n",
       "      <td>84.115686</td>\n",
       "      <td>76.223529</td>\n",
       "      <td>14.258824</td>\n",
       "      <td>11.325490</td>\n",
       "    </tr>\n",
       "    <tr>\n",
       "      <th>std</th>\n",
       "      <td>14.866069</td>\n",
       "      <td>441.100323</td>\n",
       "      <td>10.717576</td>\n",
       "      <td>21.957133</td>\n",
       "      <td>13.258392</td>\n",
       "      <td>5.592087</td>\n",
       "      <td>4.584242</td>\n",
       "      <td>2.121494</td>\n",
       "    </tr>\n",
       "    <tr>\n",
       "      <th>min</th>\n",
       "      <td>1.000000</td>\n",
       "      <td>82.000000</td>\n",
       "      <td>1.600000</td>\n",
       "      <td>24.000000</td>\n",
       "      <td>31.800000</td>\n",
       "      <td>64.300000</td>\n",
       "      <td>8.000000</td>\n",
       "      <td>8.400000</td>\n",
       "    </tr>\n",
       "    <tr>\n",
       "      <th>25%</th>\n",
       "      <td>13.500000</td>\n",
       "      <td>326.500000</td>\n",
       "      <td>3.900000</td>\n",
       "      <td>49.550000</td>\n",
       "      <td>79.350000</td>\n",
       "      <td>73.500000</td>\n",
       "      <td>10.700000</td>\n",
       "      <td>10.050000</td>\n",
       "    </tr>\n",
       "    <tr>\n",
       "      <th>50%</th>\n",
       "      <td>26.000000</td>\n",
       "      <td>515.000000</td>\n",
       "      <td>6.800000</td>\n",
       "      <td>69.800000</td>\n",
       "      <td>87.600000</td>\n",
       "      <td>76.700000</td>\n",
       "      <td>13.100000</td>\n",
       "      <td>10.900000</td>\n",
       "    </tr>\n",
       "    <tr>\n",
       "      <th>75%</th>\n",
       "      <td>38.500000</td>\n",
       "      <td>773.000000</td>\n",
       "      <td>10.350000</td>\n",
       "      <td>83.950000</td>\n",
       "      <td>92.600000</td>\n",
       "      <td>80.100000</td>\n",
       "      <td>17.400000</td>\n",
       "      <td>12.050000</td>\n",
       "    </tr>\n",
       "    <tr>\n",
       "      <th>max</th>\n",
       "      <td>51.000000</td>\n",
       "      <td>2922.000000</td>\n",
       "      <td>78.500000</td>\n",
       "      <td>100.000000</td>\n",
       "      <td>98.500000</td>\n",
       "      <td>86.600000</td>\n",
       "      <td>26.400000</td>\n",
       "      <td>22.100000</td>\n",
       "    </tr>\n",
       "  </tbody>\n",
       "</table>\n",
       "</div>"
      ],
      "text/plain": [
       "             sid        crime     murder    pctmetro   pctwhite      pcths  \\\n",
       "count  51.000000    51.000000  51.000000   51.000000  51.000000  51.000000   \n",
       "mean   26.000000   612.843137   8.727451   67.390196  84.115686  76.223529   \n",
       "std    14.866069   441.100323  10.717576   21.957133  13.258392   5.592087   \n",
       "min     1.000000    82.000000   1.600000   24.000000  31.800000  64.300000   \n",
       "25%    13.500000   326.500000   3.900000   49.550000  79.350000  73.500000   \n",
       "50%    26.000000   515.000000   6.800000   69.800000  87.600000  76.700000   \n",
       "75%    38.500000   773.000000  10.350000   83.950000  92.600000  80.100000   \n",
       "max    51.000000  2922.000000  78.500000  100.000000  98.500000  86.600000   \n",
       "\n",
       "         poverty     single  \n",
       "count  51.000000  51.000000  \n",
       "mean   14.258824  11.325490  \n",
       "std     4.584242   2.121494  \n",
       "min     8.000000   8.400000  \n",
       "25%    10.700000  10.050000  \n",
       "50%    13.100000  10.900000  \n",
       "75%    17.400000  12.050000  \n",
       "max    26.400000  22.100000  "
      ]
     },
     "execution_count": 5,
     "metadata": {},
     "output_type": "execute_result"
    }
   ],
   "source": [
    "crime.describe()"
   ]
  },
  {
   "cell_type": "markdown",
   "metadata": {},
   "source": [
    "### 2.2 Tests for Normality of Residuals\n",
    "\n",
    "One of the assumptions of linear regression analysis is that the residuals are normally distributed. This assumption assures that the p-values for the t-tests will be valid. As before, we will generate the residuals (called r) and predicted values (called fv) and put them in a dataset (called elem1res)"
   ]
  },
  {
   "cell_type": "code",
   "execution_count": 18,
   "metadata": {},
   "outputs": [
    {
     "name": "stdout",
     "output_type": "stream",
     "text": [
      "                            OLS Regression Results                            \n",
      "==============================================================================\n",
      "Dep. Variable:                  crime   R-squared:                       0.894\n",
      "Model:                            OLS   Adj. R-squared:                  0.882\n",
      "Method:                 Least Squares   F-statistic:                     75.73\n",
      "Date:                Fri, 03 May 2019   Prob (F-statistic):           9.11e-21\n",
      "Time:                        09:58:11   Log-Likelihood:                -325.24\n",
      "No. Observations:                  51   AIC:                             662.5\n",
      "Df Residuals:                      45   BIC:                             674.1\n",
      "Df Model:                           5                                         \n",
      "Covariance Type:            nonrobust                                         \n",
      "==============================================================================\n",
      "                 coef    std err          t      P>|t|      [0.025      0.975]\n",
      "------------------------------------------------------------------------------\n",
      "Intercept   -800.7746    335.291     -2.388      0.021   -1476.085    -125.464\n",
      "pctmetro       6.4889      1.097      5.915      0.000       4.279       8.699\n",
      "poverty        9.5498      6.023      1.586      0.120      -2.581      21.680\n",
      "single        59.5819     20.149      2.957      0.005      19.001     100.163\n",
      "pctwhite      -0.0838      2.341     -0.036      0.972      -4.799       4.631\n",
      "murder        19.7559      4.381      4.510      0.000      10.932      28.579\n",
      "==============================================================================\n",
      "Omnibus:                        2.089   Durbin-Watson:                   1.777\n",
      "Prob(Omnibus):                  0.352   Jarque-Bera (JB):                1.263\n",
      "Skew:                           0.337   Prob(JB):                        0.532\n",
      "Kurtosis:                       3.375   Cond. No.                     1.75e+03\n",
      "==============================================================================\n",
      "\n",
      "Warnings:\n",
      "[1] Standard Errors assume that the covariance matrix of the errors is correctly specified.\n",
      "[2] The condition number is large, 1.75e+03. This might indicate that there are\n",
      "strong multicollinearity or other numerical problems.\n"
     ]
    }
   ],
   "source": [
    "lm = smf.ols(formula = \"crime ~ pctmetro + poverty + single + pctwhite + murder \", data = crime).fit()\n",
    "print lm.summary()"
   ]
  },
  {
   "cell_type": "code",
   "execution_count": 19,
   "metadata": {},
   "outputs": [
    {
     "name": "stdout",
     "output_type": "stream",
     "text": [
      "                            OLS Regression Results                            \n",
      "==============================================================================\n",
      "Dep. Variable:                  crime   R-squared:                       0.846\n",
      "Model:                            OLS   Adj. R-squared:                  0.832\n",
      "Method:                 Least Squares   F-statistic:                     63.07\n",
      "Date:                Fri, 03 May 2019   Prob (F-statistic):           4.35e-18\n",
      "Time:                        09:58:17   Log-Likelihood:                -334.74\n",
      "No. Observations:                  51   AIC:                             679.5\n",
      "Df Residuals:                      46   BIC:                             689.1\n",
      "Df Model:                           4                                         \n",
      "Covariance Type:            nonrobust                                         \n",
      "==============================================================================\n",
      "                 coef    std err          t      P>|t|      [0.025      0.975]\n",
      "------------------------------------------------------------------------------\n",
      "Intercept  -1191.6892    386.009     -3.087      0.003   -1968.685    -414.694\n",
      "pctmetro       7.4041      1.285      5.762      0.000       4.818       9.991\n",
      "poverty       16.6655      6.927      2.406      0.020       2.722      30.609\n",
      "single       120.3576     17.850      6.743      0.000      84.427     156.288\n",
      "pctwhite      -3.5091      2.639     -1.330      0.190      -8.822       1.803\n",
      "==============================================================================\n",
      "Omnibus:                        4.258   Durbin-Watson:                   1.813\n",
      "Prob(Omnibus):                  0.119   Jarque-Bera (JB):                4.131\n",
      "Skew:                          -0.229   Prob(JB):                        0.127\n",
      "Kurtosis:                       4.317   Cond. No.                     1.68e+03\n",
      "==============================================================================\n",
      "\n",
      "Warnings:\n",
      "[1] Standard Errors assume that the covariance matrix of the errors is correctly specified.\n",
      "[2] The condition number is large, 1.68e+03. This might indicate that there are\n",
      "strong multicollinearity or other numerical problems.\n"
     ]
    }
   ],
   "source": [
    "lm1 = smf.ols(formula = \"crime ~ pctmetro + poverty + single + pctwhite  \", data = crime).fit()\n",
    "print lm1.summary()"
   ]
  },
  {
   "cell_type": "code",
   "execution_count": 23,
   "metadata": {},
   "outputs": [],
   "source": [
    "crime1res = pd.concat([crime, pd.Series(lm1.resid, name = 'resid'), pd.Series(lm1.predict(), name = \"predict\")], axis = 1)"
   ]
  },
  {
   "cell_type": "code",
   "execution_count": 24,
   "metadata": {},
   "outputs": [
    {
     "data": {
      "text/html": [
       "<div>\n",
       "<style scoped>\n",
       "    .dataframe tbody tr th:only-of-type {\n",
       "        vertical-align: middle;\n",
       "    }\n",
       "\n",
       "    .dataframe tbody tr th {\n",
       "        vertical-align: top;\n",
       "    }\n",
       "\n",
       "    .dataframe thead th {\n",
       "        text-align: right;\n",
       "    }\n",
       "</style>\n",
       "<table border=\"1\" class=\"dataframe\">\n",
       "  <thead>\n",
       "    <tr style=\"text-align: right;\">\n",
       "      <th></th>\n",
       "      <th>sid</th>\n",
       "      <th>state</th>\n",
       "      <th>crime</th>\n",
       "      <th>murder</th>\n",
       "      <th>pctmetro</th>\n",
       "      <th>pctwhite</th>\n",
       "      <th>pcths</th>\n",
       "      <th>poverty</th>\n",
       "      <th>single</th>\n",
       "      <th>resid</th>\n",
       "      <th>predict</th>\n",
       "    </tr>\n",
       "  </thead>\n",
       "  <tbody>\n",
       "    <tr>\n",
       "      <th>0</th>\n",
       "      <td>1</td>\n",
       "      <td>ak</td>\n",
       "      <td>761</td>\n",
       "      <td>9.0</td>\n",
       "      <td>41.8</td>\n",
       "      <td>75.2</td>\n",
       "      <td>86.6</td>\n",
       "      <td>9.1</td>\n",
       "      <td>14.3</td>\n",
       "      <td>34.312062</td>\n",
       "      <td>726.687938</td>\n",
       "    </tr>\n",
       "    <tr>\n",
       "      <th>1</th>\n",
       "      <td>2</td>\n",
       "      <td>al</td>\n",
       "      <td>780</td>\n",
       "      <td>11.6</td>\n",
       "      <td>67.4</td>\n",
       "      <td>73.5</td>\n",
       "      <td>66.9</td>\n",
       "      <td>17.4</td>\n",
       "      <td>11.5</td>\n",
       "      <td>56.480152</td>\n",
       "      <td>723.519848</td>\n",
       "    </tr>\n",
       "    <tr>\n",
       "      <th>2</th>\n",
       "      <td>3</td>\n",
       "      <td>ar</td>\n",
       "      <td>593</td>\n",
       "      <td>10.2</td>\n",
       "      <td>44.7</td>\n",
       "      <td>82.9</td>\n",
       "      <td>66.3</td>\n",
       "      <td>20.0</td>\n",
       "      <td>10.7</td>\n",
       "      <td>123.493861</td>\n",
       "      <td>469.506139</td>\n",
       "    </tr>\n",
       "    <tr>\n",
       "      <th>3</th>\n",
       "      <td>4</td>\n",
       "      <td>az</td>\n",
       "      <td>715</td>\n",
       "      <td>8.6</td>\n",
       "      <td>84.7</td>\n",
       "      <td>88.6</td>\n",
       "      <td>78.7</td>\n",
       "      <td>15.4</td>\n",
       "      <td>12.1</td>\n",
       "      <td>-122.506800</td>\n",
       "      <td>837.506800</td>\n",
       "    </tr>\n",
       "    <tr>\n",
       "      <th>4</th>\n",
       "      <td>5</td>\n",
       "      <td>ca</td>\n",
       "      <td>1078</td>\n",
       "      <td>13.1</td>\n",
       "      <td>96.7</td>\n",
       "      <td>79.3</td>\n",
       "      <td>76.2</td>\n",
       "      <td>18.2</td>\n",
       "      <td>12.5</td>\n",
       "      <td>24.203443</td>\n",
       "      <td>1053.796557</td>\n",
       "    </tr>\n",
       "  </tbody>\n",
       "</table>\n",
       "</div>"
      ],
      "text/plain": [
       "   sid state  crime  murder  pctmetro  pctwhite  pcths  poverty  single  \\\n",
       "0    1   ak     761     9.0      41.8      75.2   86.6      9.1    14.3   \n",
       "1    2   al     780    11.6      67.4      73.5   66.9     17.4    11.5   \n",
       "2    3   ar     593    10.2      44.7      82.9   66.3     20.0    10.7   \n",
       "3    4   az     715     8.6      84.7      88.6   78.7     15.4    12.1   \n",
       "4    5   ca    1078    13.1      96.7      79.3   76.2     18.2    12.5   \n",
       "\n",
       "        resid      predict  \n",
       "0   34.312062   726.687938  \n",
       "1   56.480152   723.519848  \n",
       "2  123.493861   469.506139  \n",
       "3 -122.506800   837.506800  \n",
       "4   24.203443  1053.796557  "
      ]
     },
     "execution_count": 24,
     "metadata": {},
     "output_type": "execute_result"
    }
   ],
   "source": [
    "crime1res.head()"
   ]
  },
  {
   "cell_type": "code",
   "execution_count": 25,
   "metadata": {},
   "outputs": [
    {
     "data": {
      "text/plain": [
       "<matplotlib.axes._subplots.AxesSubplot at 0x154f8eb8>"
      ]
     },
     "execution_count": 25,
     "metadata": {},
     "output_type": "execute_result"
    },
    {
     "data": {
      "image/png": "[encoded data removed]",
      "text/plain": [
       "<matplotlib.figure.Figure at 0x12ecd358>"
      ]
     },
     "metadata": {
      "needs_background": "light"
     },
     "output_type": "display_data"
    }
   ],
   "source": [
    "sns.kdeplot(np.array(crime1res.resid), bw=10)\n",
    "sns.distplot(np.array(crime1res.resid), hist=False)"
   ]
  },
  {
   "cell_type": "code",
   "execution_count": 26,
   "metadata": {
    "scrolled": true
   },
   "outputs": [
    {
     "data": {
      "image/png": "[encoded data removed]",
      "text/plain": [
       "<matplotlib.figure.Figure at 0x15695470>"
      ]
     },
     "metadata": {
      "needs_background": "light"
     },
     "output_type": "display_data"
    },
    {
     "data": {
      "image/png": "[encoded data removed]",
      "text/plain": [
       "<matplotlib.figure.Figure at 0x3a7a080>"
      ]
     },
     "metadata": {
      "needs_background": "light"
     },
     "output_type": "display_data"
    }
   ],
   "source": [
    "sm.qqplot(crime1res.resid)\n",
    "plt.show()\n",
    "\n",
    "import pylab\n",
    "scipystats.probplot(crime1res.resid, dist=\"norm\", plot=pylab)\n",
    "pylab.show()"
   ]
  },
  {
   "cell_type": "code",
   "execution_count": null,
   "metadata": {},
   "outputs": [],
   "source": []
  },
  {
   "cell_type": "code",
   "execution_count": 27,
   "metadata": {},
   "outputs": [
    {
     "name": "stdout",
     "output_type": "stream",
     "text": [
      "KstestResult(statistic=0.05835177501000273, pvalue=0.9950589369070272)\n",
      "(0.06067256523868049, 0.2)\n",
      "(0.26756824330223594, 0.6719700207825735)\n"
     ]
    },
    {
     "name": "stderr",
     "output_type": "stream",
     "text": [
      "C:\\Users\\Bota\\Miniconda3\\lib\\site-packages\\statsmodels\\stats\\_adnorm.py:66: FutureWarning: Using a non-tuple sequence for multidimensional indexing is deprecated; use `arr[tuple(seq)]` instead of `arr[seq]`. In the future this will be interpreted as an array index, `arr[np.array(seq)]`, which will result either in an error or a different result.\n",
      "  S = np.sum((2*i[sl1]-1.0)/N*(np.log(z)+np.log(1-z[sl2])), axis=axis)\n"
     ]
    }
   ],
   "source": [
    "'''\n",
    "by default, scipy stats.kstest for normal will assume mean 0 and stdev 1. To use this, the data should be normalized first\n",
    "'''\n",
    "resid = crime1res.resid\n",
    "norm_resid = (crime1res.resid - np.mean(crime1res.resid)) / np.std(crime1res.resid)\n",
    "print scipystats.kstest(norm_resid, 'norm')\n",
    "\n",
    "# or use the statsmodels provided function kstest_normal to use kolmogorov-smirnov test or Anderson-Darling test\n",
    "print stats.diagnostic.kstest_normal(crime1res.resid, pvalmethod='approx')\n",
    "print stats.diagnostic.normal_ad(crime1res.resid)"
   ]
  },
  {
   "cell_type": "markdown",
   "metadata": {},
   "source": [
    "Severe outliers consist of those points that are either 3 inter-quartile-ranges below the first quartile or 3 inter-quartile-ranges above the third quartile. The presence of any severe outliers should be sufficient evidence to reject normality at a 5% significance level. Mild outliers are common in samples of any size. In our case, we don't have any severe outliers and the distribution seems fairly symmetric. The residuals have an approximately normal distribution. (See the output of the proc univariate above.)\n",
    "\n",
    "In the Kilmogorov-Smirnov test or Anderson-Darling test for normality, the p-value is based on the assumption that the distribution is normal. In our example, the p-value is very large, indicating that we cannot reject that residuals is normally distributed."
   ]
  },
  {
   "cell_type": "markdown",
   "metadata": {},
   "source": [
    "## with murders"
   ]
  },
  {
   "cell_type": "code",
   "execution_count": 38,
   "metadata": {},
   "outputs": [
    {
     "name": "stdout",
     "output_type": "stream",
     "text": [
      "                            OLS Regression Results                            \n",
      "==============================================================================\n",
      "Dep. Variable:                  crime   R-squared:                       0.894\n",
      "Model:                            OLS   Adj. R-squared:                  0.882\n",
      "Method:                 Least Squares   F-statistic:                     75.73\n",
      "Date:                Fri, 03 May 2019   Prob (F-statistic):           9.11e-21\n",
      "Time:                        10:29:00   Log-Likelihood:                -325.24\n",
      "No. Observations:                  51   AIC:                             662.5\n",
      "Df Residuals:                      45   BIC:                             674.1\n",
      "Df Model:                           5                                         \n",
      "Covariance Type:            nonrobust                                         \n",
      "==============================================================================\n",
      "                 coef    std err          t      P>|t|      [0.025      0.975]\n",
      "------------------------------------------------------------------------------\n",
      "Intercept   -800.7746    335.291     -2.388      0.021   -1476.085    -125.464\n",
      "pctmetro       6.4889      1.097      5.915      0.000       4.279       8.699\n",
      "poverty        9.5498      6.023      1.586      0.120      -2.581      21.680\n",
      "single        59.5819     20.149      2.957      0.005      19.001     100.163\n",
      "pctwhite      -0.0838      2.341     -0.036      0.972      -4.799       4.631\n",
      "murder        19.7559      4.381      4.510      0.000      10.932      28.579\n",
      "==============================================================================\n",
      "Omnibus:                        2.089   Durbin-Watson:                   1.777\n",
      "Prob(Omnibus):                  0.352   Jarque-Bera (JB):                1.263\n",
      "Skew:                           0.337   Prob(JB):                        0.532\n",
      "Kurtosis:                       3.375   Cond. No.                     1.75e+03\n",
      "==============================================================================\n",
      "\n",
      "Warnings:\n",
      "[1] Standard Errors assume that the covariance matrix of the errors is correctly specified.\n",
      "[2] The condition number is large, 1.75e+03. This might indicate that there are\n",
      "strong multicollinearity or other numerical problems.\n"
     ]
    }
   ],
   "source": [
    "lm = smf.ols(formula = \"crime ~ pctmetro + poverty + single + pctwhite + murder \", data = crime).fit()\n",
    "print lm.summary()"
   ]
  },
  {
   "cell_type": "code",
   "execution_count": 28,
   "metadata": {},
   "outputs": [],
   "source": [
    "crime1res1 = pd.concat([crime, pd.Series(lm.resid, name = 'resid'), pd.Series(lm.predict(), name = \"predict\")], axis = 1)"
   ]
  },
  {
   "cell_type": "code",
   "execution_count": 29,
   "metadata": {},
   "outputs": [
    {
     "data": {
      "text/html": [
       "<div>\n",
       "<style scoped>\n",
       "    .dataframe tbody tr th:only-of-type {\n",
       "        vertical-align: middle;\n",
       "    }\n",
       "\n",
       "    .dataframe tbody tr th {\n",
       "        vertical-align: top;\n",
       "    }\n",
       "\n",
       "    .dataframe thead th {\n",
       "        text-align: right;\n",
       "    }\n",
       "</style>\n",
       "<table border=\"1\" class=\"dataframe\">\n",
       "  <thead>\n",
       "    <tr style=\"text-align: right;\">\n",
       "      <th></th>\n",
       "      <th>sid</th>\n",
       "      <th>state</th>\n",
       "      <th>crime</th>\n",
       "      <th>murder</th>\n",
       "      <th>pctmetro</th>\n",
       "      <th>pctwhite</th>\n",
       "      <th>pcths</th>\n",
       "      <th>poverty</th>\n",
       "      <th>single</th>\n",
       "      <th>resid</th>\n",
       "      <th>predict</th>\n",
       "    </tr>\n",
       "  </thead>\n",
       "  <tbody>\n",
       "    <tr>\n",
       "      <th>0</th>\n",
       "      <td>1</td>\n",
       "      <td>ak</td>\n",
       "      <td>761</td>\n",
       "      <td>9.0</td>\n",
       "      <td>41.8</td>\n",
       "      <td>75.2</td>\n",
       "      <td>86.6</td>\n",
       "      <td>9.1</td>\n",
       "      <td>14.3</td>\n",
       "      <td>180.116259</td>\n",
       "      <td>580.883741</td>\n",
       "    </tr>\n",
       "    <tr>\n",
       "      <th>1</th>\n",
       "      <td>2</td>\n",
       "      <td>al</td>\n",
       "      <td>780</td>\n",
       "      <td>11.6</td>\n",
       "      <td>67.4</td>\n",
       "      <td>73.5</td>\n",
       "      <td>66.9</td>\n",
       "      <td>17.4</td>\n",
       "      <td>11.5</td>\n",
       "      <td>69.058028</td>\n",
       "      <td>710.941972</td>\n",
       "    </tr>\n",
       "    <tr>\n",
       "      <th>2</th>\n",
       "      <td>3</td>\n",
       "      <td>ar</td>\n",
       "      <td>593</td>\n",
       "      <td>10.2</td>\n",
       "      <td>44.7</td>\n",
       "      <td>82.9</td>\n",
       "      <td>66.3</td>\n",
       "      <td>20.0</td>\n",
       "      <td>10.7</td>\n",
       "      <td>80.638683</td>\n",
       "      <td>512.361317</td>\n",
       "    </tr>\n",
       "    <tr>\n",
       "      <th>3</th>\n",
       "      <td>4</td>\n",
       "      <td>az</td>\n",
       "      <td>715</td>\n",
       "      <td>8.6</td>\n",
       "      <td>84.7</td>\n",
       "      <td>88.6</td>\n",
       "      <td>78.7</td>\n",
       "      <td>15.4</td>\n",
       "      <td>12.1</td>\n",
       "      <td>-64.315723</td>\n",
       "      <td>779.315723</td>\n",
       "    </tr>\n",
       "    <tr>\n",
       "      <th>4</th>\n",
       "      <td>5</td>\n",
       "      <td>ca</td>\n",
       "      <td>1078</td>\n",
       "      <td>13.1</td>\n",
       "      <td>96.7</td>\n",
       "      <td>79.3</td>\n",
       "      <td>76.2</td>\n",
       "      <td>18.2</td>\n",
       "      <td>12.5</td>\n",
       "      <td>80.563724</td>\n",
       "      <td>997.436276</td>\n",
       "    </tr>\n",
       "  </tbody>\n",
       "</table>\n",
       "</div>"
      ],
      "text/plain": [
       "   sid state  crime  murder  pctmetro  pctwhite  pcths  poverty  single  \\\n",
       "0    1   ak     761     9.0      41.8      75.2   86.6      9.1    14.3   \n",
       "1    2   al     780    11.6      67.4      73.5   66.9     17.4    11.5   \n",
       "2    3   ar     593    10.2      44.7      82.9   66.3     20.0    10.7   \n",
       "3    4   az     715     8.6      84.7      88.6   78.7     15.4    12.1   \n",
       "4    5   ca    1078    13.1      96.7      79.3   76.2     18.2    12.5   \n",
       "\n",
       "        resid     predict  \n",
       "0  180.116259  580.883741  \n",
       "1   69.058028  710.941972  \n",
       "2   80.638683  512.361317  \n",
       "3  -64.315723  779.315723  \n",
       "4   80.563724  997.436276  "
      ]
     },
     "execution_count": 29,
     "metadata": {},
     "output_type": "execute_result"
    }
   ],
   "source": [
    "crime1res1.head()"
   ]
  },
  {
   "cell_type": "code",
   "execution_count": 30,
   "metadata": {},
   "outputs": [
    {
     "data": {
      "text/plain": [
       "<matplotlib.axes._subplots.AxesSubplot at 0x157edcf8>"
      ]
     },
     "execution_count": 30,
     "metadata": {},
     "output_type": "execute_result"
    },
    {
     "data": {
      "image/png": "[encoded data removed]",
      "text/plain": [
       "<matplotlib.figure.Figure at 0x15710128>"
      ]
     },
     "metadata": {
      "needs_background": "light"
     },
     "output_type": "display_data"
    }
   ],
   "source": [
    "sns.kdeplot(np.array(crime1res1.resid), bw=10)\n",
    "sns.distplot(np.array(crime1res1.resid), hist=False)"
   ]
  },
  {
   "cell_type": "code",
   "execution_count": 31,
   "metadata": {},
   "outputs": [
    {
     "data": {
      "image/png": "[encoded data removed]",
      "text/plain": [
       "<matplotlib.figure.Figure at 0x15cb5c50>"
      ]
     },
     "metadata": {
      "needs_background": "light"
     },
     "output_type": "display_data"
    },
    {
     "data": {
      "image/png": "[encoded data removed]",
      "text/plain": [
       "<matplotlib.figure.Figure at 0x15b0c0b8>"
      ]
     },
     "metadata": {
      "needs_background": "light"
     },
     "output_type": "display_data"
    }
   ],
   "source": [
    "sm.qqplot(crime1res1.resid)\n",
    "plt.show()\n",
    "\n",
    "import pylab\n",
    "scipystats.probplot(crime1res1.resid, dist=\"norm\", plot=pylab)\n",
    "pylab.show()"
   ]
  },
  {
   "cell_type": "code",
   "execution_count": 32,
   "metadata": {},
   "outputs": [
    {
     "name": "stdout",
     "output_type": "stream",
     "text": [
      "KstestResult(statistic=0.06674699029137354, pvalue=0.9769440836293136)\n",
      "(0.06513952258179745, 0.2)\n",
      "(0.2872017287878421, 0.6072847135798616)\n"
     ]
    }
   ],
   "source": [
    "'''\n",
    "by default, scipy stats.kstest for normal will assume mean 0 and stdev 1. To use this, the data should be normalized first\n",
    "'''\n",
    "resid1 = crime1res1.resid\n",
    "norm_resid1 = (crime1res1.resid - np.mean(crime1res1.resid)) / np.std(crime1res1.resid)\n",
    "print scipystats.kstest(norm_resid1, 'norm')\n",
    "\n",
    "# or use the statsmodels provided function kstest_normal to use kolmogorov-smirnov test or Anderson-Darling test\n",
    "print stats.diagnostic.kstest_normal(crime1res1.resid, pvalmethod='approx')\n",
    "print stats.diagnostic.normal_ad(crime1res1.resid)"
   ]
  },
  {
   "cell_type": "markdown",
   "metadata": {},
   "source": [
    "## almost similar as without murder"
   ]
  },
  {
   "cell_type": "code",
   "execution_count": null,
   "metadata": {},
   "outputs": [],
   "source": []
  },
  {
   "cell_type": "markdown",
   "metadata": {},
   "source": [
    "# 2.3 Tests for Heteroscedasticity"
   ]
  },
  {
   "cell_type": "code",
   "execution_count": 39,
   "metadata": {},
   "outputs": [
    {
     "data": {
      "text/plain": [
       "<matplotlib.collections.PathCollection at 0x166b0e80>"
      ]
     },
     "execution_count": 39,
     "metadata": {},
     "output_type": "execute_result"
    },
    {
     "data": {
      "image/png": "[encoded data removed]",
      "text/plain": [
       "<matplotlib.figure.Figure at 0x15360a58>"
      ]
     },
     "metadata": {
      "needs_background": "light"
     },
     "output_type": "display_data"
    }
   ],
   "source": [
    "lm = smf.ols(formula = \"crime ~ pctmetro + poverty + single + pctwhite  \", data = crime).fit()\n",
    "\n",
    "resid = lm.resid\n",
    "plt.scatter(lm.predict(), resid)"
   ]
  },
  {
   "cell_type": "code",
   "execution_count": 40,
   "metadata": {},
   "outputs": [
    {
     "data": {
      "text/plain": [
       "(33.93947607795313,\n",
       " 0.0021048448044827133,\n",
       " 5.115489939519657,\n",
       " 3.798338454099002e-05)"
      ]
     },
     "execution_count": 40,
     "metadata": {},
     "output_type": "execute_result"
    }
   ],
   "source": [
    "# p-value here is different from SAS output, need double check\n",
    "stats.diagnostic.het_white(resid, lm.model.exog, retres = False)"
   ]
  },
  {
   "cell_type": "code",
   "execution_count": 41,
   "metadata": {},
   "outputs": [
    {
     "data": {
      "text/plain": [
       "<matplotlib.collections.PathCollection at 0x169fd320>"
      ]
     },
     "execution_count": 41,
     "metadata": {},
     "output_type": "execute_result"
    },
    {
     "data": {
      "image/png": "[encoded data removed]",
      "text/plain": [
       "<matplotlib.figure.Figure at 0x1663ed30>"
      ]
     },
     "metadata": {
      "needs_background": "light"
     },
     "output_type": "display_data"
    }
   ],
   "source": [
    "lm2 = smf.ols(formula = \"crime ~ pcths\", data = crime).fit()\n",
    "\n",
    "plt.scatter(lm2.predict(), lm2.resid)"
   ]
  },
  {
   "cell_type": "code",
   "execution_count": 46,
   "metadata": {},
   "outputs": [],
   "source": [
    "crime['log_pcths'] = crime.pcths.map(lambda x: math.log(x))\n"
   ]
  },
  {
   "cell_type": "code",
   "execution_count": 52,
   "metadata": {},
   "outputs": [],
   "source": [
    "crime = crime.drop(columns = 'log_enroll')"
   ]
  },
  {
   "cell_type": "code",
   "execution_count": 53,
   "metadata": {},
   "outputs": [
    {
     "data": {
      "text/html": [
       "<div>\n",
       "<style scoped>\n",
       "    .dataframe tbody tr th:only-of-type {\n",
       "        vertical-align: middle;\n",
       "    }\n",
       "\n",
       "    .dataframe tbody tr th {\n",
       "        vertical-align: top;\n",
       "    }\n",
       "\n",
       "    .dataframe thead th {\n",
       "        text-align: right;\n",
       "    }\n",
       "</style>\n",
       "<table border=\"1\" class=\"dataframe\">\n",
       "  <thead>\n",
       "    <tr style=\"text-align: right;\">\n",
       "      <th></th>\n",
       "      <th>sid</th>\n",
       "      <th>state</th>\n",
       "      <th>crime</th>\n",
       "      <th>murder</th>\n",
       "      <th>pctmetro</th>\n",
       "      <th>pctwhite</th>\n",
       "      <th>pcths</th>\n",
       "      <th>poverty</th>\n",
       "      <th>single</th>\n",
       "      <th>log_pcths</th>\n",
       "    </tr>\n",
       "  </thead>\n",
       "  <tbody>\n",
       "    <tr>\n",
       "      <th>0</th>\n",
       "      <td>1</td>\n",
       "      <td>ak</td>\n",
       "      <td>761</td>\n",
       "      <td>9.0</td>\n",
       "      <td>41.8</td>\n",
       "      <td>75.2</td>\n",
       "      <td>86.6</td>\n",
       "      <td>9.1</td>\n",
       "      <td>14.3</td>\n",
       "      <td>4.461300</td>\n",
       "    </tr>\n",
       "    <tr>\n",
       "      <th>1</th>\n",
       "      <td>2</td>\n",
       "      <td>al</td>\n",
       "      <td>780</td>\n",
       "      <td>11.6</td>\n",
       "      <td>67.4</td>\n",
       "      <td>73.5</td>\n",
       "      <td>66.9</td>\n",
       "      <td>17.4</td>\n",
       "      <td>11.5</td>\n",
       "      <td>4.203199</td>\n",
       "    </tr>\n",
       "    <tr>\n",
       "      <th>2</th>\n",
       "      <td>3</td>\n",
       "      <td>ar</td>\n",
       "      <td>593</td>\n",
       "      <td>10.2</td>\n",
       "      <td>44.7</td>\n",
       "      <td>82.9</td>\n",
       "      <td>66.3</td>\n",
       "      <td>20.0</td>\n",
       "      <td>10.7</td>\n",
       "      <td>4.194190</td>\n",
       "    </tr>\n",
       "    <tr>\n",
       "      <th>3</th>\n",
       "      <td>4</td>\n",
       "      <td>az</td>\n",
       "      <td>715</td>\n",
       "      <td>8.6</td>\n",
       "      <td>84.7</td>\n",
       "      <td>88.6</td>\n",
       "      <td>78.7</td>\n",
       "      <td>15.4</td>\n",
       "      <td>12.1</td>\n",
       "      <td>4.365643</td>\n",
       "    </tr>\n",
       "    <tr>\n",
       "      <th>4</th>\n",
       "      <td>5</td>\n",
       "      <td>ca</td>\n",
       "      <td>1078</td>\n",
       "      <td>13.1</td>\n",
       "      <td>96.7</td>\n",
       "      <td>79.3</td>\n",
       "      <td>76.2</td>\n",
       "      <td>18.2</td>\n",
       "      <td>12.5</td>\n",
       "      <td>4.333361</td>\n",
       "    </tr>\n",
       "  </tbody>\n",
       "</table>\n",
       "</div>"
      ],
      "text/plain": [
       "   sid state  crime  murder  pctmetro  pctwhite  pcths  poverty  single  \\\n",
       "0    1   ak     761     9.0      41.8      75.2   86.6      9.1    14.3   \n",
       "1    2   al     780    11.6      67.4      73.5   66.9     17.4    11.5   \n",
       "2    3   ar     593    10.2      44.7      82.9   66.3     20.0    10.7   \n",
       "3    4   az     715     8.6      84.7      88.6   78.7     15.4    12.1   \n",
       "4    5   ca    1078    13.1      96.7      79.3   76.2     18.2    12.5   \n",
       "\n",
       "   log_pcths  \n",
       "0   4.461300  \n",
       "1   4.203199  \n",
       "2   4.194190  \n",
       "3   4.365643  \n",
       "4   4.333361  "
      ]
     },
     "execution_count": 53,
     "metadata": {},
     "output_type": "execute_result"
    }
   ],
   "source": [
    "crime.head()"
   ]
  },
  {
   "cell_type": "code",
   "execution_count": 54,
   "metadata": {},
   "outputs": [
    {
     "data": {
      "text/plain": [
       "<matplotlib.collections.PathCollection at 0x15af9588>"
      ]
     },
     "execution_count": 54,
     "metadata": {},
     "output_type": "execute_result"
    },
    {
     "data": {
      "image/png": "[encoded data removed]",
      "text/plain": [
       "<matplotlib.figure.Figure at 0x162fd278>"
      ]
     },
     "metadata": {
      "needs_background": "light"
     },
     "output_type": "display_data"
    }
   ],
   "source": [
    "crime['log_pcths'] = crime.pcths.map(lambda x: math.log(x))\n",
    "lm3 = smf.ols(formula = \"crime ~ log_pcths\", data = crime).fit()\n",
    "\n",
    "plt.scatter(lm3.predict(), lm3.resid)"
   ]
  },
  {
   "cell_type": "markdown",
   "metadata": {},
   "source": [
    "#### Finally, let's revisit the model we used at the start of this section, predicting crime from poverty, single... Using this model, the distribution of the residuals looked very nice and even across the fitted values. What if we add pcths to this model? Will this automatically ruin the distribution of the residuals? Let's add it and see."
   ]
  },
  {
   "cell_type": "code",
   "execution_count": 56,
   "metadata": {},
   "outputs": [
    {
     "data": {
      "text/plain": [
       "<matplotlib.collections.PathCollection at 0x1566e7f0>"
      ]
     },
     "execution_count": 56,
     "metadata": {},
     "output_type": "execute_result"
    },
    {
     "data": {
      "image/png": "[encoded data removed]",
      "text/plain": [
       "<matplotlib.figure.Figure at 0x15717be0>"
      ]
     },
     "metadata": {
      "needs_background": "light"
     },
     "output_type": "display_data"
    }
   ],
   "source": [
    "lm4 = smf.ols(formula = \"crime ~ pctmetro + poverty + single + pctwhite + pcths \", data = crime).fit()\n",
    "\n",
    "resid = lm4.resid\n",
    "plt.scatter(lm4.predict(), resid)"
   ]
  },
  {
   "cell_type": "markdown",
   "metadata": {},
   "source": [
    "-  As you can see, the distribution of the residuals looks fine, even after we added the variable pcthc. When we had just the variable pcths in the model, we did a log transformation to improve the distribution of the residuals, but when pcthsl was part of a model with other variables, the residuals looked good enough so that no transformation was needed. This illustrates how the distribution of the residuals, not the distribution of the predictor, was the guiding factor in determining whether a transformation was needed."
   ]
  }
 ],
 "metadata": {
  "kernelspec": {
   "display_name": "Python 2",
   "language": "python",
   "name": "python2"
  },
  "language_info": {
   "codemirror_mode": {
    "name": "ipython",
    "version": 2
   },
   "file_extension": ".py",
   "mimetype": "text/x-python",
   "name": "python",
   "nbconvert_exporter": "python",
   "pygments_lexer": "ipython2",
   "version": "2.7.15"
  }
 },
 "nbformat": 4,
 "nbformat_minor": 2
}
