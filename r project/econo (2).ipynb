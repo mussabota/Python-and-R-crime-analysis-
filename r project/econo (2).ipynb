{
 "cells": [
  {
   "cell_type": "code",
   "execution_count": 8,
   "metadata": {},
   "outputs": [],
   "source": [
    "import statsmodels.api as sm\n",
    "import pandas as pd\n",
    "import seaborn as sns"
   ]
  },
  {
   "cell_type": "code",
   "execution_count": 3,
   "metadata": {},
   "outputs": [],
   "source": [
    "df=pd.read_csv('car.txt',sep='\\t')\n",
    "df.rep78=df.rep78.ffill()"
   ]
  },
  {
   "cell_type": "code",
   "execution_count": 13,
   "metadata": {},
   "outputs": [],
   "source": [
    "#X=df[['length','weight','rep78']].values\n",
    "#Y=df['price'].values\n",
    "#X = X.reshape(len(df['length']), 3)\n",
    "#Y = Y.reshape(len(df['price']), 1)\n",
    "\n",
    "#X = sm.add_constant(X) # adding a constant"
   ]
  },
  {
   "cell_type": "code",
   "execution_count": 19,
   "metadata": {},
   "outputs": [],
   "source": [
    "df['new_var'] = df['length'] +df['weight']\n",
    "X=df[['new_var','rep78']].values\n",
    "Y=df['price'].values\n",
    "X = X.reshape(len(df['new_var']), 2)\n",
    "Y = Y.reshape(len(df['price']), 1)\n",
    "\n",
    "X = sm.add_constant(X) # adding a constant"
   ]
  },
  {
   "cell_type": "code",
   "execution_count": 20,
   "metadata": {},
   "outputs": [],
   "source": [
    "model = sm.OLS(Y, X).fit()"
   ]
  },
  {
   "cell_type": "code",
   "execution_count": 21,
   "metadata": {},
   "outputs": [
    {
     "name": "stdout",
     "output_type": "stream",
     "text": [
      "                            OLS Regression Results                            \n",
      "==============================================================================\n",
      "Dep. Variable:                      y   R-squared:                       0.354\n",
      "Model:                            OLS   Adj. R-squared:                  0.336\n",
      "Method:                 Least Squares   F-statistic:                     19.47\n",
      "Date:                Thu, 28 Feb 2019   Prob (F-statistic):           1.81e-07\n",
      "Time:                        15:47:59   Log-Likelihood:                -679.53\n",
      "No. Observations:                  74   AIC:                             1365.\n",
      "Df Residuals:                      71   BIC:                             1372.\n",
      "Df Model:                           2                                         \n",
      "Covariance Type:            nonrobust                                         \n",
      "==============================================================================\n",
      "                 coef    std err          t      P>|t|      [0.025      0.975]\n",
      "------------------------------------------------------------------------------\n",
      "const      -4329.3974   1922.877     -2.252      0.027   -8163.505    -495.290\n",
      "x1             2.3698      0.380      6.229      0.000       1.611       3.128\n",
      "x2           853.0990    315.528      2.704      0.009     223.954    1482.244\n",
      "==============================================================================\n",
      "Omnibus:                       16.006   Durbin-Watson:                   1.060\n",
      "Prob(Omnibus):                  0.000   Jarque-Bera (JB):               18.296\n",
      "Skew:                           1.096   Prob(JB):                     0.000106\n",
      "Kurtosis:                       4.064   Cond. No.                     2.29e+04\n",
      "==============================================================================\n",
      "\n",
      "Warnings:\n",
      "[1] Standard Errors assume that the covariance matrix of the errors is correctly specified.\n",
      "[2] The condition number is large, 2.29e+04. This might indicate that there are\n",
      "strong multicollinearity or other numerical problems.\n"
     ]
    }
   ],
   "source": [
    "print_model = model.summary()\n",
    "print(print_model)"
   ]
  },
  {
   "cell_type": "code",
   "execution_count": 16,
   "metadata": {},
   "outputs": [
    {
     "data": {
      "text/plain": [
       "0     3.0\n",
       "1     3.0\n",
       "2     3.0\n",
       "3     3.0\n",
       "4     4.0\n",
       "5     3.0\n",
       "6     3.0\n",
       "7     3.0\n",
       "8     3.0\n",
       "9     3.0\n",
       "10    3.0\n",
       "11    2.0\n",
       "12    3.0\n",
       "13    3.0\n",
       "14    4.0\n",
       "15    3.0\n",
       "16    2.0\n",
       "17    2.0\n",
       "18    3.0\n",
       "19    5.0\n",
       "20    2.0\n",
       "21    2.0\n",
       "22    2.0\n",
       "23    4.0\n",
       "24    3.0\n",
       "25    3.0\n",
       "26    3.0\n",
       "27    3.0\n",
       "28    4.0\n",
       "29    4.0\n",
       "     ... \n",
       "44    3.0\n",
       "45    2.0\n",
       "46    4.0\n",
       "47    1.0\n",
       "48    3.0\n",
       "49    3.0\n",
       "50    3.0\n",
       "51    2.0\n",
       "52    5.0\n",
       "53    3.0\n",
       "54    4.0\n",
       "55    4.0\n",
       "56    5.0\n",
       "57    4.0\n",
       "58    4.0\n",
       "59    3.0\n",
       "60    5.0\n",
       "61    4.0\n",
       "62    4.0\n",
       "63    4.0\n",
       "64    3.0\n",
       "65    5.0\n",
       "66    5.0\n",
       "67    5.0\n",
       "68    5.0\n",
       "69    4.0\n",
       "70    5.0\n",
       "71    4.0\n",
       "72    4.0\n",
       "73    5.0\n",
       "Name: rep78, Length: 74, dtype: float64"
      ]
     },
     "execution_count": 16,
     "metadata": {},
     "output_type": "execute_result"
    }
   ],
   "source": []
  },
  {
   "cell_type": "code",
   "execution_count": null,
   "metadata": {},
   "outputs": [],
   "source": []
  }
 ],
 "metadata": {
  "kernelspec": {
   "display_name": "Python 3",
   "language": "python",
   "name": "python3"
  },
  "language_info": {
   "codemirror_mode": {
    "name": "ipython",
    "version": 3
   },
   "file_extension": ".py",
   "mimetype": "text/x-python",
   "name": "python",
   "nbconvert_exporter": "python",
   "pygments_lexer": "ipython3",
   "version": "3.6.8"
  }
 },
 "nbformat": 4,
 "nbformat_minor": 2
}
