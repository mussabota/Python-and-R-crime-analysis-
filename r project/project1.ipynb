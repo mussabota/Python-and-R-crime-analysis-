{
 "cells": [
  {
   "cell_type": "code",
   "execution_count": 87,
   "metadata": {},
   "outputs": [],
   "source": [
    "import numpy as np\n",
    "import matplotlib.pyplot as plt\n"
   ]
  },
  {
   "cell_type": "code",
   "execution_count": 117,
   "metadata": {},
   "outputs": [
    {
     "name": "stdout",
     "output_type": "stream",
     "text": [
      "   N                                               text     Unnamed: 2\n",
      "0  1              qqqqqq\\nrrrrrrr\\nttttt\\nyy\\n112223333         simple\n",
      "1  2  Информацио́нная энтропи́я — мера неопределённо...           wiki\n",
      "2  3  THE recent development of various methods of m...  C. E. SHANNON\n"
     ]
    }
   ],
   "source": [
    "#reading files\n",
    "import pandas as pd\n",
    "df1=pd.read_excel('AIT_texts_01.xls')\n",
    "print(df1)"
   ]
  },
  {
   "cell_type": "code",
   "execution_count": 181,
   "metadata": {},
   "outputs": [
    {
     "data": {
      "text/plain": [
       "'qqqqqq\\nrrrrrrr\\nttttt\\nyy\\n112223333'"
      ]
     },
     "execution_count": 181,
     "metadata": {},
     "output_type": "execute_result"
    }
   ],
   "source": [
    "txt = df1.loc[[0],['text']]\n",
    "txt = np.array(txt)\n",
    "txt[0]\n",
    "\n",
    "string = ''.join(txt[0][0])\n",
    "string\n"
   ]
  },
  {
   "cell_type": "code",
   "execution_count": 183,
   "metadata": {},
   "outputs": [
    {
     "data": {
      "text/plain": [
       "['q',\n",
       " 'q',\n",
       " 'q',\n",
       " 'q',\n",
       " 'q',\n",
       " 'q',\n",
       " '\\n',\n",
       " 'r',\n",
       " 'r',\n",
       " 'r',\n",
       " 'r',\n",
       " 'r',\n",
       " 'r',\n",
       " 'r',\n",
       " '\\n',\n",
       " 't',\n",
       " 't',\n",
       " 't',\n",
       " 't',\n",
       " 't',\n",
       " '\\n',\n",
       " 'y',\n",
       " 'y',\n",
       " '\\n',\n",
       " '1',\n",
       " '1',\n",
       " '2',\n",
       " '2',\n",
       " '2',\n",
       " '3',\n",
       " '3',\n",
       " '3',\n",
       " '3']"
      ]
     },
     "execution_count": 183,
     "metadata": {},
     "output_type": "execute_result"
    }
   ],
   "source": [
    "char_arr = []\n",
    "for ch in string:\n",
    "    char_arr.append(ch)\n"
   ]
  },
  {
   "cell_type": "code",
   "execution_count": 219,
   "metadata": {},
   "outputs": [
    {
     "data": {
      "text/plain": [
       "{'q': 6, '\\n': 4, 'r': 7, 't': 5, 'y': 2, '1': 2, '2': 3, '3': 4}"
      ]
     },
     "execution_count": 219,
     "metadata": {},
     "output_type": "execute_result"
    }
   ],
   "source": [
    "dic ={}\n",
    "count = 0\n",
    "for l1 in char_arr:\n",
    "    for l2 in char_arr:\n",
    "        if l1 == l2:\n",
    "            count += 1\n",
    "            dic[l1] = count\n",
    "    count = 0\n",
    "dic"
   ]
  },
  {
   "cell_type": "code",
   "execution_count": null,
   "metadata": {},
   "outputs": [],
   "source": []
  }
 ],
 "metadata": {
  "kernelspec": {
   "display_name": "Python 3",
   "language": "python",
   "name": "python3"
  },
  "language_info": {
   "codemirror_mode": {
    "name": "ipython",
    "version": 3
   },
   "file_extension": ".py",
   "mimetype": "text/x-python",
   "name": "python",
   "nbconvert_exporter": "python",
   "pygments_lexer": "ipython3",
   "version": "3.6.8"
  }
 },
 "nbformat": 4,
 "nbformat_minor": 2
}
